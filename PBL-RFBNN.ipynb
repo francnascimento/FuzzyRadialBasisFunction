{
 "cells": [
  {
   "cell_type": "code",
   "execution_count": 53,
   "metadata": {},
   "outputs": [
    {
     "name": "stdout",
     "output_type": "stream",
     "text": [
      "The autoreload extension is already loaded. To reload it, use:\n",
      "  %reload_ext autoreload\n"
     ]
    }
   ],
   "source": [
    "import numpy as np\n",
    "import pandas as pd\n",
    "import pickle\n",
    "\n",
    "from src.get_data import load_breast_cancer, load_glass, load_iris, load_skin, load_statlog_shuttle, load_wine\n",
    "from src.models import train_logistic_regression, train_multilayer_perceptron, train_fuzzy_rbf_nn\n",
    "\n",
    "from matplotlib import pyplot as plt\n",
    "\n",
    "seed=42\n",
    "\n",
    "%load_ext autoreload\n",
    "%autoreload 2"
   ]
  },
  {
   "cell_type": "markdown",
   "metadata": {},
   "source": [
    "## Preliminar results"
   ]
  },
  {
   "cell_type": "code",
   "execution_count": 120,
   "metadata": {},
   "outputs": [],
   "source": [
    "data = {'dataset':['Iris', 'Wine', 'Breast', 'Glass', 'StatlogShuttle', 'SkinSeg'],\n",
    "        #'SOFTMAX_GD_FRBF': [90.25, 98.69, 92.03, 75.02],\n",
    "        'PBL_FRBF': [96.75, 98.04, 89.56, 92.45,0,0],\n",
    "        'FRBF': [93.89, 96.81, 85.19, 91.56,0,0],\n",
    "        'RBF': [90.65, 95.89, 81.94, 90.56,0,0],\n",
    "        'LogReg': [],\n",
    "        'MLP': [],\n",
    "        'SOFTMAX_GD_FRBF': []\n",
    "       }\n",
    "\n",
    "data = {\n",
    " 'dataset': ['Iris', 'Wine', 'Breast', 'Glass', 'StatlogShuttle', 'SkinSeg'],\n",
    " 'PBL_FRBF': [96.75, 98.04, 89.56, 92.45, 0, 0],\n",
    " 'FRBF': [93.89, 96.81, 85.19, 91.56, 0, 0],\n",
    " 'RBF': [90.65, 95.89, 81.94, 90.56, 0, 0],\n",
    " 'LogReg': [1.0, 1.0, 0.9785512994468217, 0.9833333333333334, 0.9548445863831603, 0.8846160017882521],\n",
    " 'MLP': [1.0, 0.9841269841269842, 0.986013986013986, 0.9634502923976608, 0.9995039682539683, 0.9864555669586725],\n",
    " 'SOFTMAX_GD_FRBF': [0.923076923076923, 1.0, 0.9750547959503183, 0.8130341880341881, 0.8627325638028444, 0.47421947277637494]\n",
    "}"
   ]
  },
  {
   "cell_type": "markdown",
   "metadata": {},
   "source": [
    "## 1. Logistic Regression\n",
    "#### 1.1 Iris dataset"
   ]
  },
  {
   "cell_type": "code",
   "execution_count": 93,
   "metadata": {},
   "outputs": [
    {
     "name": "stdout",
     "output_type": "stream",
     "text": [
      "Fitting 3 folds for each of 1 candidates, totalling 3 fits\n"
     ]
    },
    {
     "name": "stderr",
     "output_type": "stream",
     "text": [
      "[Parallel(n_jobs=-1)]: Using backend LokyBackend with 8 concurrent workers.\n"
     ]
    },
    {
     "name": "stdout",
     "output_type": "stream",
     "text": [
      "Best: 0.952381 using {'C': 34.55107294592218, 'penalty': 'l2', 'solver': 'newton-cg'}\n"
     ]
    },
    {
     "name": "stderr",
     "output_type": "stream",
     "text": [
      "[Parallel(n_jobs=-1)]: Done   3 out of   3 | elapsed:    1.9s finished\n"
     ]
    }
   ],
   "source": [
    "X, y = load_iris()\n",
    "\n",
    "param_grid = {\n",
    "    'penalty' : ['l2'],\n",
    "    'solver' : ['newton-cg', 'lbfgs', 'liblinear'],\n",
    "    'C' : np.logspace(-4, 4, 40)\n",
    "}\n",
    "#best_found_params\n",
    "param_grid = {'C': [34.55107294592218], 'penalty': ['l2'], 'solver': ['newton-cg']}\n",
    "\n",
    "metrics = train_logistic_regression(X, y, param_grid)\n",
    "data['LogReg'].append(metrics[0])"
   ]
  },
  {
   "cell_type": "markdown",
   "metadata": {},
   "source": [
    "#### 1.2 Wine Quality Dataset"
   ]
  },
  {
   "cell_type": "code",
   "execution_count": 95,
   "metadata": {},
   "outputs": [
    {
     "name": "stdout",
     "output_type": "stream",
     "text": [
      "Fitting 3 folds for each of 1 candidates, totalling 3 fits\n"
     ]
    },
    {
     "name": "stderr",
     "output_type": "stream",
     "text": [
      "[Parallel(n_jobs=-1)]: Using backend LokyBackend with 8 concurrent workers.\n"
     ]
    },
    {
     "name": "stdout",
     "output_type": "stream",
     "text": [
      "Best: 0.975803 using {'C': 8.376776400682925, 'penalty': 'l2', 'solver': 'newton-cg'}\n"
     ]
    },
    {
     "name": "stderr",
     "output_type": "stream",
     "text": [
      "[Parallel(n_jobs=-1)]: Done   3 out of   3 | elapsed:    1.4s finished\n"
     ]
    }
   ],
   "source": [
    "X, y = load_wine()\n",
    "\n",
    "param_grid = {\n",
    "    'penalty' : ['l2'],\n",
    "    'solver' : ['newton-cg', 'lbfgs', 'liblinear'],\n",
    "    'C' : np.logspace(-4, 4, 40)\n",
    "}\n",
    "#best_found_params\n",
    "param_grid = {'C': [8.376776400682925], 'penalty': ['l2'], 'solver': ['newton-cg']}\n",
    "\n",
    "metrics = train_logistic_regression(X, y, param_grid)\n",
    "data['LogReg'].append(metrics[0])"
   ]
  },
  {
   "cell_type": "markdown",
   "metadata": {},
   "source": [
    "#### 1.3 Breast Cancer Dataset"
   ]
  },
  {
   "cell_type": "code",
   "execution_count": 96,
   "metadata": {},
   "outputs": [
    {
     "name": "stdout",
     "output_type": "stream",
     "text": [
      "Fitting 3 folds for each of 1 candidates, totalling 3 fits\n",
      "Best: 0.969325 using {'C': 0.00025719138090593444, 'penalty': 'l2', 'solver': 'liblinear'}\n"
     ]
    },
    {
     "name": "stderr",
     "output_type": "stream",
     "text": [
      "/home/user/anaconda3/envs/py36/lib/python3.6/site-packages/pandas/core/indexing.py:1745: SettingWithCopyWarning: \n",
      "A value is trying to be set on a copy of a slice from a DataFrame.\n",
      "Try using .loc[row_indexer,col_indexer] = value instead\n",
      "\n",
      "See the caveats in the documentation: https://pandas.pydata.org/pandas-docs/stable/user_guide/indexing.html#returning-a-view-versus-a-copy\n",
      "  isetter(ilocs[0], value)\n",
      "[Parallel(n_jobs=-1)]: Using backend LokyBackend with 8 concurrent workers.\n",
      "[Parallel(n_jobs=-1)]: Done   3 out of   3 | elapsed:    0.0s finished\n"
     ]
    }
   ],
   "source": [
    "X, y = load_breast_cancer()\n",
    "\n",
    "param_grid = {\n",
    "    'penalty' : ['l2'],\n",
    "    'solver' : ['newton-cg', 'lbfgs', 'liblinear'],\n",
    "    'C' : np.logspace(-4, 4, 40)\n",
    "}\n",
    "#best_found_params\n",
    "param_grid = {'C': [0.00025719138090593444], 'penalty': ['l2'], 'solver': ['liblinear']}\n",
    "\n",
    "metrics = train_logistic_regression(X, y, param_grid)\n",
    "data['LogReg'].append(metrics[0])"
   ]
  },
  {
   "cell_type": "markdown",
   "metadata": {},
   "source": [
    "#### 1.4 Glass Dataset"
   ]
  },
  {
   "cell_type": "code",
   "execution_count": 97,
   "metadata": {},
   "outputs": [
    {
     "name": "stdout",
     "output_type": "stream",
     "text": [
      "Fitting 3 folds for each of 1 candidates, totalling 3 fits\n",
      "Best: 0.939184 using {'C': 142.51026703029964, 'penalty': 'l2', 'solver': 'newton-cg'}\n"
     ]
    },
    {
     "name": "stderr",
     "output_type": "stream",
     "text": [
      "[Parallel(n_jobs=-1)]: Using backend LokyBackend with 8 concurrent workers.\n",
      "[Parallel(n_jobs=-1)]: Done   3 out of   3 | elapsed:    0.1s finished\n"
     ]
    }
   ],
   "source": [
    "X, y = load_glass()\n",
    "\n",
    "param_grid = {\n",
    "    'penalty' : ['l2'],\n",
    "    'solver' : ['newton-cg', 'lbfgs', 'liblinear'],\n",
    "    'C' : np.logspace(-4, 4, 40)\n",
    "}\n",
    "#best_found_params\n",
    "param_grid = {'C': [142.51026703029964], 'penalty': ['l2'], 'solver': ['newton-cg']}\n",
    "\n",
    "metrics = train_logistic_regression(X, y, param_grid)\n",
    "data['LogReg'].append(metrics[0])"
   ]
  },
  {
   "cell_type": "markdown",
   "metadata": {},
   "source": [
    "#### 1.5 Statlog Shuttle Dataset"
   ]
  },
  {
   "cell_type": "code",
   "execution_count": 98,
   "metadata": {},
   "outputs": [
    {
     "name": "stdout",
     "output_type": "stream",
     "text": [
      "Fitting 3 folds for each of 1 candidates, totalling 3 fits\n"
     ]
    },
    {
     "name": "stderr",
     "output_type": "stream",
     "text": [
      "[Parallel(n_jobs=-1)]: Using backend LokyBackend with 8 concurrent workers.\n",
      "[Parallel(n_jobs=-1)]: Done   3 out of   3 | elapsed:    0.8s finished\n"
     ]
    },
    {
     "name": "stdout",
     "output_type": "stream",
     "text": [
      "Best: 0.971015 using {'C': 942.6684551178854, 'max_iter': 300, 'penalty': 'l2', 'solver': 'newton-cg'}\n"
     ]
    }
   ],
   "source": [
    "X, y = load_statlog_shuttle()\n",
    "\n",
    "param_grid = {\n",
    "    'penalty' : ['l2'],\n",
    "    'solver' : ['newton-cg', 'lbfgs', 'liblinear'],\n",
    "    'C' : np.logspace(-4, 4, 40),\n",
    "    'max_iter': [300]\n",
    "}\n",
    "#best_found_params\n",
    "param_grid = {'C': [942.6684551178854], 'max_iter': [300], 'penalty': ['l2'], 'solver': ['newton-cg']}\n",
    "\n",
    "metrics = train_logistic_regression(X, y, param_grid)\n",
    "data['LogReg'].append(metrics[0])"
   ]
  },
  {
   "cell_type": "markdown",
   "metadata": {},
   "source": [
    "#### 1.6 Skin Dataset"
   ]
  },
  {
   "cell_type": "code",
   "execution_count": 99,
   "metadata": {},
   "outputs": [
    {
     "name": "stdout",
     "output_type": "stream",
     "text": [
      "Fitting 3 folds for each of 1 candidates, totalling 3 fits\n"
     ]
    },
    {
     "name": "stderr",
     "output_type": "stream",
     "text": [
      "[Parallel(n_jobs=-1)]: Using backend LokyBackend with 8 concurrent workers.\n",
      "[Parallel(n_jobs=-1)]: Done   3 out of   3 | elapsed:    0.4s finished\n"
     ]
    },
    {
     "name": "stdout",
     "output_type": "stream",
     "text": [
      "Best: 0.918677 using {'C': 21.54434690031882, 'penalty': 'l2', 'solver': 'liblinear'}\n"
     ]
    }
   ],
   "source": [
    "X, y = load_skin()\n",
    "\n",
    "param_grid = {\n",
    "    'penalty' : ['l2'],\n",
    "    'solver' : ['newton-cg', 'lbfgs', 'liblinear'],\n",
    "    'C' : np.logspace(-4, 4, 40)\n",
    "}\n",
    "#best_found_params\n",
    "param_grid = {'C': [21.54434690031882], 'penalty': ['l2'], 'solver': ['liblinear']}\n",
    "\n",
    "metrics = train_logistic_regression(X, y, param_grid)\n",
    "data['LogReg'].append(metrics[0])"
   ]
  },
  {
   "cell_type": "markdown",
   "metadata": {},
   "source": [
    "## 2. MultiLayer Perceptron\n",
    "#### 2.1 Iris dataset"
   ]
  },
  {
   "cell_type": "code",
   "execution_count": 61,
   "metadata": {},
   "outputs": [
    {
     "name": "stdout",
     "output_type": "stream",
     "text": [
      "Fitting 3 folds for each of 1 candidates, totalling 3 fits\n"
     ]
    },
    {
     "name": "stderr",
     "output_type": "stream",
     "text": [
      "[Parallel(n_jobs=-1)]: Using backend LokyBackend with 8 concurrent workers.\n",
      "[Parallel(n_jobs=-1)]: Done   3 out of   3 | elapsed:    0.3s finished\n"
     ]
    },
    {
     "name": "stdout",
     "output_type": "stream",
     "text": [
      "Best: 0.952381 using {'activation': 'tanh', 'alpha': 0.0001, 'hidden_layer_sizes': 3, 'learning_rate': 'constant', 'max_iter': 200, 'solver': 'lbfgs'}\n"
     ]
    }
   ],
   "source": [
    "X, y = load_iris()\n",
    "\n",
    "param_grid = {\n",
    "    'hidden_layer_sizes': [(3), (5), (3,3), (5,5)],\n",
    "    'activation': ['logistic', 'tanh', 'relu'],\n",
    "    'solver': ['lbfgs', 'adam'],\n",
    "    'alpha': [0.0001, 0.005, 0.001, 0.005, 0.01, 0.05],\n",
    "    'learning_rate': ['constant','adaptive'],\n",
    "    'max_iter': [200]\n",
    "}\n",
    "#best_found_params\n",
    "param_grid = {'activation': ['tanh'], 'alpha': [0.0001], 'hidden_layer_sizes': [(3)],\n",
    "              'learning_rate': ['constant'], 'max_iter': [200], 'solver': ['lbfgs']}\n",
    "\n",
    "metrics = train_multilayer_perceptron(X, y, param_grid)\n",
    "data['MLP'].append(metrics[0])"
   ]
  },
  {
   "cell_type": "markdown",
   "metadata": {},
   "source": [
    "#### 2.2 Wine dataset"
   ]
  },
  {
   "cell_type": "code",
   "execution_count": 62,
   "metadata": {},
   "outputs": [
    {
     "name": "stdout",
     "output_type": "stream",
     "text": [
      "Fitting 3 folds for each of 1 candidates, totalling 3 fits\n",
      "Best: 0.983740 using {'activation': 'logistic', 'alpha': 0.001, 'hidden_layer_sizes': 5, 'learning_rate': 'constant', 'max_iter': 200, 'solver': 'lbfgs'}\n"
     ]
    },
    {
     "name": "stderr",
     "output_type": "stream",
     "text": [
      "[Parallel(n_jobs=-1)]: Using backend LokyBackend with 8 concurrent workers.\n",
      "[Parallel(n_jobs=-1)]: Done   3 out of   3 | elapsed:    0.1s finished\n"
     ]
    }
   ],
   "source": [
    "X, y = load_wine()\n",
    "\n",
    "param_grid = {\n",
    "    'hidden_layer_sizes': [(3), (5), (3,3), (5,5)],\n",
    "    'activation': ['logistic', 'tanh', 'relu'],\n",
    "    'solver': ['lbfgs', 'adam'],\n",
    "    'alpha': [0.0001, 0.005, 0.001, 0.005, 0.01, 0.05],\n",
    "    'learning_rate': ['constant','adaptive'],\n",
    "    'max_iter': [200]\n",
    "}\n",
    "#best_found_params\n",
    "param_grid = {'activation': ['logistic'], 'alpha': [0.001], 'hidden_layer_sizes': [(5)],\n",
    "              'learning_rate': ['constant'], 'max_iter': [200], 'solver': ['lbfgs']}\n",
    "\n",
    "metrics = train_multilayer_perceptron(X, y, param_grid)\n",
    "data['MLP'].append(metrics[0])"
   ]
  },
  {
   "cell_type": "markdown",
   "metadata": {},
   "source": [
    "#### 2.3 Breast Cancer Dataset"
   ]
  },
  {
   "cell_type": "code",
   "execution_count": 63,
   "metadata": {},
   "outputs": [
    {
     "name": "stderr",
     "output_type": "stream",
     "text": [
      "/home/user/anaconda3/envs/py36/lib/python3.6/site-packages/pandas/core/indexing.py:1745: SettingWithCopyWarning: \n",
      "A value is trying to be set on a copy of a slice from a DataFrame.\n",
      "Try using .loc[row_indexer,col_indexer] = value instead\n",
      "\n",
      "See the caveats in the documentation: https://pandas.pydata.org/pandas-docs/stable/user_guide/indexing.html#returning-a-view-versus-a-copy\n",
      "  isetter(ilocs[0], value)\n",
      "[Parallel(n_jobs=-1)]: Using backend LokyBackend with 8 concurrent workers.\n"
     ]
    },
    {
     "name": "stdout",
     "output_type": "stream",
     "text": [
      "Fitting 3 folds for each of 1 candidates, totalling 3 fits\n"
     ]
    },
    {
     "name": "stderr",
     "output_type": "stream",
     "text": [
      "[Parallel(n_jobs=-1)]: Done   3 out of   3 | elapsed:    0.6s finished\n",
      "/home/user/anaconda3/envs/py36/lib/python3.6/site-packages/sklearn/neural_network/_multilayer_perceptron.py:585: ConvergenceWarning: Stochastic Optimizer: Maximum iterations (200) reached and the optimization hasn't converged yet.\n",
      "  % self.max_iter, ConvergenceWarning)\n"
     ]
    },
    {
     "name": "stdout",
     "output_type": "stream",
     "text": [
      "Best: 0.969325 using {'activation': 'relu', 'alpha': 0.0001, 'hidden_layer_sizes': (5, 5), 'learning_rate': 'constant', 'max_iter': 200, 'solver': 'adam'}\n"
     ]
    },
    {
     "name": "stderr",
     "output_type": "stream",
     "text": [
      "/home/user/anaconda3/envs/py36/lib/python3.6/site-packages/sklearn/neural_network/_multilayer_perceptron.py:585: ConvergenceWarning: Stochastic Optimizer: Maximum iterations (200) reached and the optimization hasn't converged yet.\n",
      "  % self.max_iter, ConvergenceWarning)\n"
     ]
    }
   ],
   "source": [
    "X, y = load_breast_cancer()\n",
    "\n",
    "param_grid = {\n",
    "    'hidden_layer_sizes': [(3), (5), (3,3), (5,5)],\n",
    "    'activation': ['logistic', 'tanh', 'relu'],\n",
    "    'solver': ['lbfgs', 'adam'],\n",
    "    'alpha': [0.0001, 0.005, 0.001, 0.005, 0.01, 0.05],\n",
    "    'learning_rate': ['constant','adaptive'],\n",
    "    'max_iter': [200]\n",
    "}\n",
    "#best_found_params\n",
    "param_grid = {'activation': ['relu'], 'alpha': [0.0001], 'hidden_layer_sizes': [(5,5)],\n",
    "              'learning_rate': ['constant'], 'max_iter': [200], 'solver': ['adam']}\n",
    "\n",
    "metrics = train_multilayer_perceptron(X, y, param_grid)\n",
    "data['MLP'].append(metrics[0])"
   ]
  },
  {
   "cell_type": "markdown",
   "metadata": {},
   "source": [
    "#### 2.4 Glass Dataset"
   ]
  },
  {
   "cell_type": "code",
   "execution_count": 64,
   "metadata": {},
   "outputs": [
    {
     "name": "stdout",
     "output_type": "stream",
     "text": [
      "Fitting 3 folds for each of 1 candidates, totalling 3 fits\n"
     ]
    },
    {
     "name": "stderr",
     "output_type": "stream",
     "text": [
      "[Parallel(n_jobs=-1)]: Using backend LokyBackend with 8 concurrent workers.\n",
      "[Parallel(n_jobs=-1)]: Done   3 out of   3 | elapsed:    0.4s finished\n",
      "/home/user/anaconda3/envs/py36/lib/python3.6/site-packages/sklearn/neural_network/_multilayer_perceptron.py:471: ConvergenceWarning: lbfgs failed to converge (status=1):\n",
      "STOP: TOTAL NO. of ITERATIONS REACHED LIMIT.\n",
      "\n",
      "Increase the number of iterations (max_iter) or scale the data as shown in:\n",
      "    https://scikit-learn.org/stable/modules/preprocessing.html\n",
      "  self.n_iter_ = _check_optimize_result(\"lbfgs\", opt_res, self.max_iter)\n"
     ]
    },
    {
     "name": "stdout",
     "output_type": "stream",
     "text": [
      "Best: 0.959864 using {'activation': 'relu', 'alpha': 0.05, 'hidden_layer_sizes': (5, 5), 'learning_rate': 'constant', 'max_iter': 200, 'solver': 'lbfgs'}\n"
     ]
    },
    {
     "name": "stderr",
     "output_type": "stream",
     "text": [
      "/home/user/anaconda3/envs/py36/lib/python3.6/site-packages/sklearn/neural_network/_multilayer_perceptron.py:471: ConvergenceWarning: lbfgs failed to converge (status=1):\n",
      "STOP: TOTAL NO. of ITERATIONS REACHED LIMIT.\n",
      "\n",
      "Increase the number of iterations (max_iter) or scale the data as shown in:\n",
      "    https://scikit-learn.org/stable/modules/preprocessing.html\n",
      "  self.n_iter_ = _check_optimize_result(\"lbfgs\", opt_res, self.max_iter)\n"
     ]
    }
   ],
   "source": [
    "X, y = load_glass()\n",
    "\n",
    "param_grid = {\n",
    "    'hidden_layer_sizes': [(3), (5), (3,3), (5,5)],\n",
    "    'activation': ['logistic', 'tanh', 'relu'],\n",
    "    'solver': ['lbfgs', 'adam'],\n",
    "    'alpha': [0.0001, 0.005, 0.001, 0.005, 0.01, 0.05],\n",
    "    'learning_rate': ['constant','adaptive'],\n",
    "    'max_iter': [200]\n",
    "}\n",
    "#best_found_params\n",
    "param_grid = {'activation': ['relu'], 'alpha': [0.05], 'hidden_layer_sizes': [(5,5)],\n",
    "              'learning_rate': ['constant'], 'max_iter': [200], 'solver': ['lbfgs']}\n",
    "\n",
    "metrics = train_multilayer_perceptron(X, y, param_grid)\n",
    "data['MLP'].append(metrics[0])"
   ]
  },
  {
   "cell_type": "markdown",
   "metadata": {},
   "source": [
    "#### 2.5 Statlog Shuttle Dataset"
   ]
  },
  {
   "cell_type": "code",
   "execution_count": 65,
   "metadata": {},
   "outputs": [
    {
     "name": "stdout",
     "output_type": "stream",
     "text": [
      "Fitting 3 folds for each of 1 candidates, totalling 3 fits\n"
     ]
    },
    {
     "name": "stderr",
     "output_type": "stream",
     "text": [
      "[Parallel(n_jobs=-1)]: Using backend LokyBackend with 8 concurrent workers.\n",
      "[Parallel(n_jobs=-1)]: Done   3 out of   3 | elapsed:    2.1s finished\n"
     ]
    },
    {
     "name": "stdout",
     "output_type": "stream",
     "text": [
      "Best: 1.000000 using {'activation': 'logistic', 'alpha': 0.005, 'hidden_layer_sizes': 5, 'learning_rate': 'constant', 'max_iter': 200, 'solver': 'lbfgs'}\n"
     ]
    }
   ],
   "source": [
    "X, y = load_statlog_shuttle()\n",
    "\n",
    "param_grid = {\n",
    "    'hidden_layer_sizes': [(3), (5), (3,3), (5,5)],\n",
    "    'activation': ['logistic', 'tanh', 'relu'],\n",
    "    'solver': ['lbfgs', 'adam'],\n",
    "    'alpha': [0.0001, 0.005, 0.001, 0.005, 0.01, 0.05],\n",
    "    'learning_rate': ['constant','adaptive'],\n",
    "    'max_iter': [200]\n",
    "}\n",
    "#best_found_params\n",
    "param_grid = {'activation': ['logistic'], 'alpha': [0.005], 'hidden_layer_sizes': [(5)],\n",
    "              'learning_rate': ['constant'], 'max_iter': [200], 'solver': ['lbfgs']}\n",
    "\n",
    "metrics = train_multilayer_perceptron(X, y, param_grid)\n",
    "data['MLP'].append(metrics[0])"
   ]
  },
  {
   "cell_type": "markdown",
   "metadata": {},
   "source": [
    "#### 2.6 Skin Dataset"
   ]
  },
  {
   "cell_type": "code",
   "execution_count": 66,
   "metadata": {},
   "outputs": [
    {
     "name": "stdout",
     "output_type": "stream",
     "text": [
      "Fitting 3 folds for each of 1 candidates, totalling 3 fits\n"
     ]
    },
    {
     "name": "stderr",
     "output_type": "stream",
     "text": [
      "[Parallel(n_jobs=-1)]: Using backend LokyBackend with 8 concurrent workers.\n",
      "[Parallel(n_jobs=-1)]: Done   3 out of   3 | elapsed:  1.5min finished\n"
     ]
    },
    {
     "name": "stdout",
     "output_type": "stream",
     "text": [
      "Best: 0.998519 using {'activation': 'tanh', 'alpha': 0.01, 'hidden_layer_sizes': 5, 'learning_rate': 'constant', 'max_iter': 200, 'solver': 'lbfgs'}\n"
     ]
    }
   ],
   "source": [
    "X, y = load_skin()\n",
    "\n",
    "param_grid = {\n",
    "    'hidden_layer_sizes': [(3), (5), (3,3), (5,5)],\n",
    "    'activation': ['logistic', 'tanh', 'relu'],\n",
    "    'solver': ['lbfgs', 'adam'],\n",
    "    'alpha': [0.0001, 0.005, 0.001, 0.005, 0.01, 0.05],\n",
    "    'learning_rate': ['constant','adaptive'],\n",
    "    'max_iter': [200]\n",
    "}\n",
    "#best_found_params\n",
    "param_grid = {'activation': ['tanh'], 'alpha': [0.01], 'hidden_layer_sizes': [(5)],\n",
    "              'learning_rate': ['constant'], 'max_iter': [200], 'solver': ['lbfgs']}\n",
    "\n",
    "metrics = train_multilayer_perceptron(X, y, param_grid)\n",
    "data['MLP'].append(metrics[0])"
   ]
  },
  {
   "cell_type": "markdown",
   "metadata": {},
   "source": [
    "## 3. Fuzzy Radial-Basis Function\n",
    "#### 3.1 Iris dataset"
   ]
  },
  {
   "cell_type": "code",
   "execution_count": 119,
   "metadata": {},
   "outputs": [
    {
     "name": "stdout",
     "output_type": "stream",
     "text": [
      "0.923076923076923\n"
     ]
    }
   ],
   "source": [
    "X, y = load_iris()\n",
    "\n",
    "n_labels = len(y.unique())\n",
    "param_grid = {\n",
    "    'lr': [0.0001, 0.0005, 0.001, 0.005, 0.01, 0.05],\n",
    "    'epochs': [5000, 10000, 12000, 15000, 20000],\n",
    "    'centroids': np.arange(n_labels, n_labels*3),\n",
    "    'm': np.linspace(1, 2, 3)\n",
    "}\n",
    "#best_found_params\n",
    "param_grid = {'centroids': 5, 'epochs': 15000, 'lr': 0.0005, 'm': 2.0}\n",
    "\n",
    "metrics = train_fuzzy_rbf_nn(X, y, param_grid, hyper=False)\n",
    "print(metrics[0])\n",
    "#data['SOFTMAX_GD_FRBF'].append(metrics[0])"
   ]
  },
  {
   "cell_type": "markdown",
   "metadata": {},
   "source": [
    "#### 3.2 Wine dataset"
   ]
  },
  {
   "cell_type": "code",
   "execution_count": 69,
   "metadata": {},
   "outputs": [
    {
     "name": "stdout",
     "output_type": "stream",
     "text": [
      "1.0\n"
     ]
    }
   ],
   "source": [
    "X, y = load_wine()\n",
    "\n",
    "n_labels = len(y.unique())\n",
    "param_grid = {\n",
    "    'lr': [0.0001, 0.0005, 0.001, 0.005, 0.01],\n",
    "    'epochs': [5000, 10000, 15000],\n",
    "    'centroids': np.arange(n_labels, n_labels*2),\n",
    "    'm': np.linspace(1, 2, 3)\n",
    "}\n",
    "\n",
    "#best_found_params\n",
    "param_grid = {'centroids': 3, 'epochs': 5000, 'lr': 0.0001, 'm': 2.0}\n",
    "\n",
    "metrics = train_fuzzy_rbf_nn(X, y, param_grid, hyper=False)\n",
    "print(metrics[0])\n",
    "data['SOFTMAX_GD_FRBF'].append(metrics[0])"
   ]
  },
  {
   "cell_type": "markdown",
   "metadata": {},
   "source": [
    "#### 3.3 Breast Cancer Dataset"
   ]
  },
  {
   "cell_type": "code",
   "execution_count": 72,
   "metadata": {},
   "outputs": [
    {
     "name": "stdout",
     "output_type": "stream",
     "text": [
      "Fitting 3 folds for each of 90 candidates, totalling 270 fits\n"
     ]
    },
    {
     "name": "stderr",
     "output_type": "stream",
     "text": [
      "/home/user/anaconda3/envs/py36/lib/python3.6/site-packages/pandas/core/indexing.py:1745: SettingWithCopyWarning: \n",
      "A value is trying to be set on a copy of a slice from a DataFrame.\n",
      "Try using .loc[row_indexer,col_indexer] = value instead\n",
      "\n",
      "See the caveats in the documentation: https://pandas.pydata.org/pandas-docs/stable/user_guide/indexing.html#returning-a-view-versus-a-copy\n",
      "  isetter(ilocs[0], value)\n",
      "[Parallel(n_jobs=-1)]: Using backend LokyBackend with 8 concurrent workers.\n",
      "[Parallel(n_jobs=-1)]: Done  34 tasks      | elapsed:   35.5s\n",
      "[Parallel(n_jobs=-1)]: Done 184 tasks      | elapsed:  5.2min\n",
      "[Parallel(n_jobs=-1)]: Done 270 out of 270 | elapsed:  9.0min finished\n",
      "/home/user/anaconda3/envs/py36/lib/python3.6/site-packages/skfuzzy/cluster/_cmeans.py:33: RuntimeWarning: divide by zero encountered in double_scalars\n",
      "  u = normalize_power_columns(d, - 2. / (m - 1))\n",
      "/home/user/anaconda3/envs/py36/lib/python3.6/site-packages/skfuzzy/cluster/_cmeans.py:305: RuntimeWarning: divide by zero encountered in double_scalars\n",
      "  u = normalize_power_columns(d, - 2. / (m - 1))\n"
     ]
    },
    {
     "name": "stdout",
     "output_type": "stream",
     "text": [
      "Best: 0.000000 using {'centroids': 2, 'epochs': 5000, 'lr': 0.0001, 'm': 1.0}\n",
      "0.9750547959503183\n"
     ]
    }
   ],
   "source": [
    "X, y = load_breast_cancer()\n",
    "\n",
    "n_labels = len(y.unique())\n",
    "param_grid = {\n",
    "    'lr': [0.0001, 0.0005, 0.001, 0.005, 0.01],\n",
    "    'epochs': [5000, 10000, 15000],\n",
    "    'centroids': np.arange(n_labels, n_labels*2),\n",
    "    'm': np.linspace(1, 2, 3)\n",
    "}\n",
    "\n",
    "#best_found_params\n",
    "#param_grid = {'centroids': [2], 'epochs': [5000], 'lr': [0.0001], 'm': [1.0]}\n",
    "#best_found_params\n",
    "#param_grid = {'centroids': 2, 'epochs': 5000, 'lr': 0.0001, 'm': 1.0}\n",
    "\n",
    "metrics = train_fuzzy_rbf_nn(X, y, param_grid)\n",
    "print(metrics[0])\n",
    "data['SOFTMAX_GD_FRBF'].append(metrics[0])"
   ]
  },
  {
   "cell_type": "markdown",
   "metadata": {},
   "source": [
    "#### 3.4 Glass Dataset"
   ]
  },
  {
   "cell_type": "code",
   "execution_count": 84,
   "metadata": {},
   "outputs": [
    {
     "name": "stdout",
     "output_type": "stream",
     "text": [
      "0.8130341880341881\n"
     ]
    }
   ],
   "source": [
    "X, y = load_glass()\n",
    "\n",
    "n_labels = len(y.unique())\n",
    "param_grid = {\n",
    "    'lr': [0.0001, 0.0005, 0.001, 0.005, 0.01],\n",
    "    'epochs': [5000, 10000, 15000],\n",
    "    'centroids': np.arange(n_labels, n_labels*2),\n",
    "    'm': np.linspace(1, 2, 3),\n",
    "    'random_state':[13]\n",
    "}\n",
    "\n",
    "#best_found_params\n",
    "#param_grid = {'centroids': [8], 'epochs': [15000], 'lr': [0.0001], 'm': [1.5], 'random_state':[13]}\n",
    "\n",
    "#best_found_params\n",
    "param_grid = {'centroids': 7, 'epochs': 20000, 'lr': 50e-3, 'm': 2}\n",
    "\n",
    "metrics = train_fuzzy_rbf_nn(X, y, param_grid, hyper=False, seed=13)\n",
    "#metrics = train_fuzzy_rbf_nn(X, y, param_grid, seed=13)\n",
    "print(metrics[0])\n",
    "#data['SOFTMAX_GD_FRBF'].append(metrics[0])"
   ]
  },
  {
   "cell_type": "markdown",
   "metadata": {},
   "source": [
    "#### 3.5 Statlog Shuttle Dataset"
   ]
  },
  {
   "cell_type": "code",
   "execution_count": 88,
   "metadata": {},
   "outputs": [
    {
     "name": "stdout",
     "output_type": "stream",
     "text": [
      "0.8627325638028444\n"
     ]
    }
   ],
   "source": [
    "X, y = load_statlog_shuttle()\n",
    "\n",
    "n_labels = len(y.unique())\n",
    "param_grid = {\n",
    "    'lr': [0.0001, 0.0005, 0.001, 0.005, 0.01],\n",
    "    'epochs': [5000, 10000, 15000],\n",
    "    'centroids': np.arange(n_labels, n_labels*2),\n",
    "    'm': np.linspace(1, 2, 3)\n",
    "}\n",
    "\n",
    "#best_found_params\n",
    "param_grid = {'centroids': 3, 'epochs': 10000, 'lr': 0.01, 'm': 2.0}\n",
    "\n",
    "metrics = train_fuzzy_rbf_nn(X, y, param_grid, hyper=False)\n",
    "print(metrics[0])\n",
    "data['SOFTMAX_GD_FRBF'].append(metrics[0])"
   ]
  },
  {
   "cell_type": "markdown",
   "metadata": {},
   "source": [
    "#### 3.6 Skin Dataset"
   ]
  },
  {
   "cell_type": "code",
   "execution_count": 89,
   "metadata": {},
   "outputs": [
    {
     "name": "stdout",
     "output_type": "stream",
     "text": [
      "0.47421947277637494\n"
     ]
    }
   ],
   "source": [
    "X, y = load_skin()\n",
    "\n",
    "n_labels = len(y.unique())\n",
    "param_grid = {\n",
    "    'lr': [0.0001, 0.0005, 0.001, 0.005, 0.01],\n",
    "    'epochs': [5000, 10000, 15000],\n",
    "    'centroids': np.arange(n_labels, n_labels*2),\n",
    "    'm': np.linspace(1, 2, 3)\n",
    "}\n",
    "\n",
    "#best_found_params\n",
    "param_grid = {'centroids': 2, 'epochs': 5000, 'lr': 0.001, 'm': 2.0}\n",
    "\n",
    "metrics = train_fuzzy_rbf_nn(X, y, param_grid, hyper=False)\n",
    "print(metrics[0])\n",
    "data['SOFTMAX_GD_FRBF'].append(metrics[0])"
   ]
  },
  {
   "cell_type": "code",
   "execution_count": 132,
   "metadata": {},
   "outputs": [],
   "source": [
    "data['LogReg'] = [x * 100 for x in data['LogReg']]\n",
    "data['MLP'] = [x * 100 for x in data['MLP']]\n",
    "data['SOFTMAX_GD_FRBF'] = [x * 100 for x in data['SOFTMAX_GD_FRBF']]"
   ]
  },
  {
   "cell_type": "code",
   "execution_count": 133,
   "metadata": {},
   "outputs": [],
   "source": [
    "df = pd.DataFrame(data)\n",
    "df.to_csv('results.csv', index=False)"
   ]
  },
  {
   "cell_type": "code",
   "execution_count": null,
   "metadata": {},
   "outputs": [],
   "source": []
  },
  {
   "cell_type": "code",
   "execution_count": null,
   "metadata": {},
   "outputs": [],
   "source": []
  },
  {
   "cell_type": "code",
   "execution_count": null,
   "metadata": {},
   "outputs": [],
   "source": []
  }
 ],
 "metadata": {
  "kernelspec": {
   "display_name": "Python 3",
   "language": "python",
   "name": "python3"
  },
  "language_info": {
   "codemirror_mode": {
    "name": "ipython",
    "version": 3
   },
   "file_extension": ".py",
   "mimetype": "text/x-python",
   "name": "python",
   "nbconvert_exporter": "python",
   "pygments_lexer": "ipython3",
   "version": "3.6.10"
  }
 },
 "nbformat": 4,
 "nbformat_minor": 4
}
